{
 "cells": [
  {
   "cell_type": "markdown",
   "metadata": {},
   "source": [
    "<div style=\"text-align: center;\">\n",
    "  <img src=\"https://github.com/Hack-io-Data/Imagenes/blob/main/01-LogosHackio/logo_celeste@4x.png?raw=true\" alt=\"esquema\" />\n",
    "</div>"
   ]
  },
  {
   "cell_type": "markdown",
   "metadata": {},
   "source": [
    "Este conjunto de datos emula información sobre las visitas de los usuarios a un sitio web minorista imaginario en el Reino Unido. Los usuarios se dividen en dos grupos, A y B, cada uno de los cuales representa un grupo de control y un grupo de tratamiento, respectivamente. En este escenario, se asigna el color \"Blanco\" al Grupo A, que es la configuración predeterminada para el color de fondo del sitio web y representa el grupo de control. Además, se asigna el color \"Negro\" al Grupo B, que es la configuración más reciente que se probará y representa al grupo de tratamiento.\n",
    " \n",
    "- La descripción de las columnas es la siguiente:\n",
    " \n",
    "- ID de usuario : sirve como identificador para cada usuario.\n",
    "\n",
    "- Grupo : Contiene tanto el grupo de control (A) como el grupo de tratamiento (B).\n",
    "\n",
    "- Páginas vistas : Número de páginas que el usuario vio durante su sesión.\n",
    "\n",
    "- Tiempo empleado : la cantidad total de tiempo, en segundos, que el usuario pasó en el sitio durante la sesión.\n",
    "\n",
    "- Conversión : Indica si un usuario ha completado una acción deseada (Sí/No).\n",
    "\n",
    "- Dispositivo : Tipo de dispositivo utilizado para acceder al sitio web.\n",
    "\n",
    "- Ubicación : el país del Reino Unido donde se encuentra el usuario."
   ]
  },
  {
   "cell_type": "markdown",
   "metadata": {},
   "source": [
    "# Pregunta de investigación\n",
    " \n",
    "¿Los usuarios compran más en un sitio web si el color de fondo es blanco o negro ?\n",
    " \n",
    "# Objetivo final\n",
    " \n",
    "Aumentar las conversiones del sitio web. El usuario completa la acción deseada. \n",
    "\n",
    "La métrica principal sería la tasa de conversión, que representa el porcentaje de usuarios que realizan una acción deseada en la página de inicio, en este caso hacer una compra. Se compararía la tasa de conversión entre el grupo de control (diseño original) y el grupo de test (nuevo diseño).\n",
    " \n",
    "Actualmente tenemos una tasa de conversión del 5%, el objetivo es llegar a un 8%. \n",
    " \n",
    "# Hipótesis\n",
    " \n",
    "- **$H_0$**: La nueva versión del sitio web no es mejor o incluso es peor que la versión anterior.\n",
    "\n",
    "- **$H_1$**: La nueva versión del sitio web es mejor que la versión anterior."
   ]
  },
  {
   "cell_type": "markdown",
   "metadata": {},
   "source": [
    "# Dividir a los usuarios en control y test\n",
    " \n",
    "- **Cambios en la página de inicio del sitio web:** Se dividen a los usuarios en dos grupos: el grupo de control, que experimentaría el diseño predeterminado de la página de inicio (color blanco), y el grupo de test, que experimentaría el nuevo diseño (color negro). Luego, se comparan las conversiones entre ambos grupos para determinar si el nuevo diseño tiene un impacto significativo. La proporción de la división es 50/50 para que se pueda equilibrar la eficiencia de la prueba y la validez de los resultados. "
   ]
  },
  {
   "cell_type": "code",
   "execution_count": 1,
   "metadata": {},
   "outputs": [],
   "source": [
    "# Tratamiento de datos\n",
    "# -----------------------------------------------------------------------\n",
    "import pandas as pd\n",
    "import numpy as np\n",
    "\n",
    "# Calcular el tamaño muestral\n",
    "# -----------------------------------------------------------------------\n",
    "from statsmodels.stats.power import NormalIndPower\n",
    "import statsmodels.stats.api as sms\n",
    "\n",
    "\n",
    "# Visualización\n",
    "# ------------------------------------------------------------------------------\n",
    "import matplotlib.pyplot as plt\n",
    "import seaborn as sns\n",
    "\n",
    "\n",
    "# Importamos las funciones del archivo de soporte\n",
    "# ------------------------------------------------------------------------------\n",
    "from src import soporte_abtesting as sa\n",
    "\n",
    "\n",
    "# Otros recursos\n",
    "# ------------------------------------------------------------------------------\n",
    "import math\n",
    "\n",
    "# Configuración de las gráficas\n",
    "# ------------------------------------------------------------------------------\n",
    "# establece el estilo del fondo de las gráficas como \"whitegrid\". Las gráficas tendrán un fondo blanco con líneas de cuadrícula horizontales y verticales.\n",
    "sns.set_style(\"dark\")\n",
    "\n",
    "# cambiará el esquema de colores predeterminado de Seaborn a uno más oscuro, adecuado para gráficas con fondos claros. \n",
    "sns.set_theme(style=\"dark\")\n",
    "\n",
    "# establece el estilo en seaborn-v0_8-darkgrid. \n",
    "plt.style.use('dark_background')"
   ]
  },
  {
   "cell_type": "code",
   "execution_count": 2,
   "metadata": {},
   "outputs": [
    {
     "data": {
      "text/html": [
       "<div>\n",
       "<style scoped>\n",
       "    .dataframe tbody tr th:only-of-type {\n",
       "        vertical-align: middle;\n",
       "    }\n",
       "\n",
       "    .dataframe tbody tr th {\n",
       "        vertical-align: top;\n",
       "    }\n",
       "\n",
       "    .dataframe thead th {\n",
       "        text-align: right;\n",
       "    }\n",
       "</style>\n",
       "<table border=\"1\" class=\"dataframe\">\n",
       "  <thead>\n",
       "    <tr style=\"text-align: right;\">\n",
       "      <th></th>\n",
       "      <th>User ID</th>\n",
       "      <th>Group</th>\n",
       "      <th>Page Views</th>\n",
       "      <th>Time Spent</th>\n",
       "      <th>Conversion</th>\n",
       "      <th>Device</th>\n",
       "      <th>Location</th>\n",
       "    </tr>\n",
       "  </thead>\n",
       "  <tbody>\n",
       "    <tr>\n",
       "      <th>0</th>\n",
       "      <td>14292</td>\n",
       "      <td>B</td>\n",
       "      <td>3</td>\n",
       "      <td>424</td>\n",
       "      <td>No</td>\n",
       "      <td>Mobile</td>\n",
       "      <td>Northern Ireland</td>\n",
       "    </tr>\n",
       "    <tr>\n",
       "      <th>1</th>\n",
       "      <td>11682</td>\n",
       "      <td>A</td>\n",
       "      <td>9</td>\n",
       "      <td>342</td>\n",
       "      <td>No</td>\n",
       "      <td>Mobile</td>\n",
       "      <td>Scotland</td>\n",
       "    </tr>\n",
       "    <tr>\n",
       "      <th>2</th>\n",
       "      <td>19825</td>\n",
       "      <td>A</td>\n",
       "      <td>2</td>\n",
       "      <td>396</td>\n",
       "      <td>No</td>\n",
       "      <td>Desktop</td>\n",
       "      <td>Northern Ireland</td>\n",
       "    </tr>\n",
       "    <tr>\n",
       "      <th>3</th>\n",
       "      <td>16080</td>\n",
       "      <td>B</td>\n",
       "      <td>4</td>\n",
       "      <td>318</td>\n",
       "      <td>No</td>\n",
       "      <td>Desktop</td>\n",
       "      <td>Wales</td>\n",
       "    </tr>\n",
       "    <tr>\n",
       "      <th>4</th>\n",
       "      <td>18851</td>\n",
       "      <td>A</td>\n",
       "      <td>1</td>\n",
       "      <td>338</td>\n",
       "      <td>Yes</td>\n",
       "      <td>Desktop</td>\n",
       "      <td>Scotland</td>\n",
       "    </tr>\n",
       "  </tbody>\n",
       "</table>\n",
       "</div>"
      ],
      "text/plain": [
       "   User ID Group  Page Views  Time Spent Conversion   Device          Location\n",
       "0    14292     B           3         424         No   Mobile  Northern Ireland\n",
       "1    11682     A           9         342         No   Mobile          Scotland\n",
       "2    19825     A           2         396         No  Desktop  Northern Ireland\n",
       "3    16080     B           4         318         No  Desktop             Wales\n",
       "4    18851     A           1         338        Yes  Desktop          Scotland"
      ]
     },
     "execution_count": 2,
     "metadata": {},
     "output_type": "execute_result"
    }
   ],
   "source": [
    "# cargamos el conjunto de datos\n",
    "df = pd.read_csv(\"data/ab_testing.csv\" , sep=\",\", encoding=\"utf-8\")\n",
    "df.head()"
   ]
  },
  {
   "cell_type": "code",
   "execution_count": 3,
   "metadata": {},
   "outputs": [
    {
     "name": "stdout",
     "output_type": "stream",
     "text": [
      "<class 'pandas.core.frame.DataFrame'>\n",
      "RangeIndex: 5000 entries, 0 to 4999\n",
      "Data columns (total 7 columns):\n",
      " #   Column      Non-Null Count  Dtype \n",
      "---  ------      --------------  ----- \n",
      " 0   User ID     5000 non-null   int64 \n",
      " 1   Group       5000 non-null   object\n",
      " 2   Page Views  5000 non-null   int64 \n",
      " 3   Time Spent  5000 non-null   int64 \n",
      " 4   Conversion  5000 non-null   object\n",
      " 5   Device      5000 non-null   object\n",
      " 6   Location    5000 non-null   object\n",
      "dtypes: int64(3), object(4)\n",
      "memory usage: 273.6+ KB\n"
     ]
    }
   ],
   "source": [
    "df.info()"
   ]
  },
  {
   "cell_type": "code",
   "execution_count": 4,
   "metadata": {},
   "outputs": [
    {
     "name": "stdout",
     "output_type": "stream",
     "text": [
      "['Asunciones', 'Pruebas_no_parametricas', 'Pruebas_parametricas', '__builtins__', '__cached__', '__doc__', '__file__', '__loader__', '__name__', '__package__', '__spec__', 'display', 'exploracion_dataframe', 'np', 'pd', 'proportions_ztest', 'stats']\n"
     ]
    }
   ],
   "source": [
    "import src.soporte_abtesting as sa\n",
    "print(dir(sa))"
   ]
  },
  {
   "cell_type": "code",
   "execution_count": 5,
   "metadata": {},
   "outputs": [
    {
     "name": "stdout",
     "output_type": "stream",
     "text": [
      "El número de datos es 5000 y el de columnas es 7\n",
      "\n",
      " ..................... \n",
      "\n",
      "Los duplicados que tenemos en el conjunto de datos son: 0\n",
      "\n",
      " ..................... \n",
      "\n",
      "Los nulos que tenemos en el conjunto de datos son:\n"
     ]
    },
    {
     "data": {
      "text/html": [
       "<div>\n",
       "<style scoped>\n",
       "    .dataframe tbody tr th:only-of-type {\n",
       "        vertical-align: middle;\n",
       "    }\n",
       "\n",
       "    .dataframe tbody tr th {\n",
       "        vertical-align: top;\n",
       "    }\n",
       "\n",
       "    .dataframe thead th {\n",
       "        text-align: right;\n",
       "    }\n",
       "</style>\n",
       "<table border=\"1\" class=\"dataframe\">\n",
       "  <thead>\n",
       "    <tr style=\"text-align: right;\">\n",
       "      <th></th>\n",
       "      <th>%_nulos</th>\n",
       "    </tr>\n",
       "  </thead>\n",
       "  <tbody>\n",
       "  </tbody>\n",
       "</table>\n",
       "</div>"
      ],
      "text/plain": [
       "Empty DataFrame\n",
       "Columns: [%_nulos]\n",
       "Index: []"
      ]
     },
     "metadata": {},
     "output_type": "display_data"
    },
    {
     "name": "stdout",
     "output_type": "stream",
     "text": [
      "\n",
      " ..................... \n",
      "\n",
      "Los tipos de las columnas son:\n"
     ]
    },
    {
     "data": {
      "text/html": [
       "<div>\n",
       "<style scoped>\n",
       "    .dataframe tbody tr th:only-of-type {\n",
       "        vertical-align: middle;\n",
       "    }\n",
       "\n",
       "    .dataframe tbody tr th {\n",
       "        vertical-align: top;\n",
       "    }\n",
       "\n",
       "    .dataframe thead th {\n",
       "        text-align: right;\n",
       "    }\n",
       "</style>\n",
       "<table border=\"1\" class=\"dataframe\">\n",
       "  <thead>\n",
       "    <tr style=\"text-align: right;\">\n",
       "      <th></th>\n",
       "      <th>tipo_dato</th>\n",
       "    </tr>\n",
       "  </thead>\n",
       "  <tbody>\n",
       "    <tr>\n",
       "      <th>User ID</th>\n",
       "      <td>int64</td>\n",
       "    </tr>\n",
       "    <tr>\n",
       "      <th>Group</th>\n",
       "      <td>object</td>\n",
       "    </tr>\n",
       "    <tr>\n",
       "      <th>Page Views</th>\n",
       "      <td>int64</td>\n",
       "    </tr>\n",
       "    <tr>\n",
       "      <th>Time Spent</th>\n",
       "      <td>int64</td>\n",
       "    </tr>\n",
       "    <tr>\n",
       "      <th>Conversion</th>\n",
       "      <td>object</td>\n",
       "    </tr>\n",
       "    <tr>\n",
       "      <th>Device</th>\n",
       "      <td>object</td>\n",
       "    </tr>\n",
       "    <tr>\n",
       "      <th>Location</th>\n",
       "      <td>object</td>\n",
       "    </tr>\n",
       "  </tbody>\n",
       "</table>\n",
       "</div>"
      ],
      "text/plain": [
       "           tipo_dato\n",
       "User ID        int64\n",
       "Group         object\n",
       "Page Views     int64\n",
       "Time Spent     int64\n",
       "Conversion    object\n",
       "Device        object\n",
       "Location      object"
      ]
     },
     "metadata": {},
     "output_type": "display_data"
    },
    {
     "name": "stdout",
     "output_type": "stream",
     "text": [
      "\n",
      " ..................... \n",
      "\n",
      "Los valores que tenemos para las columnas categóricas son: \n",
      "La columna GROUP tiene las siguientes valore únicos:\n"
     ]
    },
    {
     "data": {
      "text/html": [
       "<div>\n",
       "<style scoped>\n",
       "    .dataframe tbody tr th:only-of-type {\n",
       "        vertical-align: middle;\n",
       "    }\n",
       "\n",
       "    .dataframe tbody tr th {\n",
       "        vertical-align: top;\n",
       "    }\n",
       "\n",
       "    .dataframe thead th {\n",
       "        text-align: right;\n",
       "    }\n",
       "</style>\n",
       "<table border=\"1\" class=\"dataframe\">\n",
       "  <thead>\n",
       "    <tr style=\"text-align: right;\">\n",
       "      <th></th>\n",
       "      <th>count</th>\n",
       "    </tr>\n",
       "    <tr>\n",
       "      <th>Group</th>\n",
       "      <th></th>\n",
       "    </tr>\n",
       "  </thead>\n",
       "  <tbody>\n",
       "    <tr>\n",
       "      <th>A</th>\n",
       "      <td>2519</td>\n",
       "    </tr>\n",
       "    <tr>\n",
       "      <th>B</th>\n",
       "      <td>2481</td>\n",
       "    </tr>\n",
       "  </tbody>\n",
       "</table>\n",
       "</div>"
      ],
      "text/plain": [
       "       count\n",
       "Group       \n",
       "A       2519\n",
       "B       2481"
      ]
     },
     "metadata": {},
     "output_type": "display_data"
    },
    {
     "name": "stdout",
     "output_type": "stream",
     "text": [
      "La columna CONVERSION tiene las siguientes valore únicos:\n"
     ]
    },
    {
     "data": {
      "text/html": [
       "<div>\n",
       "<style scoped>\n",
       "    .dataframe tbody tr th:only-of-type {\n",
       "        vertical-align: middle;\n",
       "    }\n",
       "\n",
       "    .dataframe tbody tr th {\n",
       "        vertical-align: top;\n",
       "    }\n",
       "\n",
       "    .dataframe thead th {\n",
       "        text-align: right;\n",
       "    }\n",
       "</style>\n",
       "<table border=\"1\" class=\"dataframe\">\n",
       "  <thead>\n",
       "    <tr style=\"text-align: right;\">\n",
       "      <th></th>\n",
       "      <th>count</th>\n",
       "    </tr>\n",
       "    <tr>\n",
       "      <th>Conversion</th>\n",
       "      <th></th>\n",
       "    </tr>\n",
       "  </thead>\n",
       "  <tbody>\n",
       "    <tr>\n",
       "      <th>No</th>\n",
       "      <td>4515</td>\n",
       "    </tr>\n",
       "    <tr>\n",
       "      <th>Yes</th>\n",
       "      <td>485</td>\n",
       "    </tr>\n",
       "  </tbody>\n",
       "</table>\n",
       "</div>"
      ],
      "text/plain": [
       "            count\n",
       "Conversion       \n",
       "No           4515\n",
       "Yes           485"
      ]
     },
     "metadata": {},
     "output_type": "display_data"
    },
    {
     "name": "stdout",
     "output_type": "stream",
     "text": [
      "La columna DEVICE tiene las siguientes valore únicos:\n"
     ]
    },
    {
     "data": {
      "text/html": [
       "<div>\n",
       "<style scoped>\n",
       "    .dataframe tbody tr th:only-of-type {\n",
       "        vertical-align: middle;\n",
       "    }\n",
       "\n",
       "    .dataframe tbody tr th {\n",
       "        vertical-align: top;\n",
       "    }\n",
       "\n",
       "    .dataframe thead th {\n",
       "        text-align: right;\n",
       "    }\n",
       "</style>\n",
       "<table border=\"1\" class=\"dataframe\">\n",
       "  <thead>\n",
       "    <tr style=\"text-align: right;\">\n",
       "      <th></th>\n",
       "      <th>count</th>\n",
       "    </tr>\n",
       "    <tr>\n",
       "      <th>Device</th>\n",
       "      <th></th>\n",
       "    </tr>\n",
       "  </thead>\n",
       "  <tbody>\n",
       "    <tr>\n",
       "      <th>Desktop</th>\n",
       "      <td>2538</td>\n",
       "    </tr>\n",
       "    <tr>\n",
       "      <th>Mobile</th>\n",
       "      <td>2462</td>\n",
       "    </tr>\n",
       "  </tbody>\n",
       "</table>\n",
       "</div>"
      ],
      "text/plain": [
       "         count\n",
       "Device        \n",
       "Desktop   2538\n",
       "Mobile    2462"
      ]
     },
     "metadata": {},
     "output_type": "display_data"
    },
    {
     "name": "stdout",
     "output_type": "stream",
     "text": [
      "La columna LOCATION tiene las siguientes valore únicos:\n"
     ]
    },
    {
     "data": {
      "text/html": [
       "<div>\n",
       "<style scoped>\n",
       "    .dataframe tbody tr th:only-of-type {\n",
       "        vertical-align: middle;\n",
       "    }\n",
       "\n",
       "    .dataframe tbody tr th {\n",
       "        vertical-align: top;\n",
       "    }\n",
       "\n",
       "    .dataframe thead th {\n",
       "        text-align: right;\n",
       "    }\n",
       "</style>\n",
       "<table border=\"1\" class=\"dataframe\">\n",
       "  <thead>\n",
       "    <tr style=\"text-align: right;\">\n",
       "      <th></th>\n",
       "      <th>count</th>\n",
       "    </tr>\n",
       "    <tr>\n",
       "      <th>Location</th>\n",
       "      <th></th>\n",
       "    </tr>\n",
       "  </thead>\n",
       "  <tbody>\n",
       "    <tr>\n",
       "      <th>Scotland</th>\n",
       "      <td>1281</td>\n",
       "    </tr>\n",
       "    <tr>\n",
       "      <th>England</th>\n",
       "      <td>1246</td>\n",
       "    </tr>\n",
       "    <tr>\n",
       "      <th>Northern Ireland</th>\n",
       "      <td>1242</td>\n",
       "    </tr>\n",
       "    <tr>\n",
       "      <th>Wales</th>\n",
       "      <td>1231</td>\n",
       "    </tr>\n",
       "  </tbody>\n",
       "</table>\n",
       "</div>"
      ],
      "text/plain": [
       "                  count\n",
       "Location               \n",
       "Scotland           1281\n",
       "England            1246\n",
       "Northern Ireland   1242\n",
       "Wales              1231"
      ]
     },
     "metadata": {},
     "output_type": "display_data"
    },
    {
     "name": "stdout",
     "output_type": "stream",
     "text": [
      "\n",
      " ..................... \n",
      "\n",
      "Los principales estadísticos de las columnas categóricas para el B son: \n"
     ]
    },
    {
     "data": {
      "text/html": [
       "<div>\n",
       "<style scoped>\n",
       "    .dataframe tbody tr th:only-of-type {\n",
       "        vertical-align: middle;\n",
       "    }\n",
       "\n",
       "    .dataframe tbody tr th {\n",
       "        vertical-align: top;\n",
       "    }\n",
       "\n",
       "    .dataframe thead th {\n",
       "        text-align: right;\n",
       "    }\n",
       "</style>\n",
       "<table border=\"1\" class=\"dataframe\">\n",
       "  <thead>\n",
       "    <tr style=\"text-align: right;\">\n",
       "      <th></th>\n",
       "      <th>count</th>\n",
       "      <th>unique</th>\n",
       "      <th>top</th>\n",
       "      <th>freq</th>\n",
       "    </tr>\n",
       "  </thead>\n",
       "  <tbody>\n",
       "    <tr>\n",
       "      <th>Group</th>\n",
       "      <td>2481</td>\n",
       "      <td>1</td>\n",
       "      <td>B</td>\n",
       "      <td>2481</td>\n",
       "    </tr>\n",
       "    <tr>\n",
       "      <th>Conversion</th>\n",
       "      <td>2481</td>\n",
       "      <td>2</td>\n",
       "      <td>No</td>\n",
       "      <td>2132</td>\n",
       "    </tr>\n",
       "    <tr>\n",
       "      <th>Device</th>\n",
       "      <td>2481</td>\n",
       "      <td>2</td>\n",
       "      <td>Desktop</td>\n",
       "      <td>1294</td>\n",
       "    </tr>\n",
       "    <tr>\n",
       "      <th>Location</th>\n",
       "      <td>2481</td>\n",
       "      <td>4</td>\n",
       "      <td>England</td>\n",
       "      <td>640</td>\n",
       "    </tr>\n",
       "  </tbody>\n",
       "</table>\n",
       "</div>"
      ],
      "text/plain": [
       "           count unique      top  freq\n",
       "Group       2481      1        B  2481\n",
       "Conversion  2481      2       No  2132\n",
       "Device      2481      2  Desktop  1294\n",
       "Location    2481      4  England   640"
      ]
     },
     "metadata": {},
     "output_type": "display_data"
    },
    {
     "name": "stdout",
     "output_type": "stream",
     "text": [
      "\n",
      " ..................... \n",
      "\n",
      "Los principales estadísticos de las columnas numéricas para el B son: \n"
     ]
    },
    {
     "data": {
      "text/html": [
       "<div>\n",
       "<style scoped>\n",
       "    .dataframe tbody tr th:only-of-type {\n",
       "        vertical-align: middle;\n",
       "    }\n",
       "\n",
       "    .dataframe tbody tr th {\n",
       "        vertical-align: top;\n",
       "    }\n",
       "\n",
       "    .dataframe thead th {\n",
       "        text-align: right;\n",
       "    }\n",
       "</style>\n",
       "<table border=\"1\" class=\"dataframe\">\n",
       "  <thead>\n",
       "    <tr style=\"text-align: right;\">\n",
       "      <th></th>\n",
       "      <th>count</th>\n",
       "      <th>mean</th>\n",
       "      <th>std</th>\n",
       "      <th>min</th>\n",
       "      <th>25%</th>\n",
       "      <th>50%</th>\n",
       "      <th>75%</th>\n",
       "      <th>max</th>\n",
       "    </tr>\n",
       "  </thead>\n",
       "  <tbody>\n",
       "    <tr>\n",
       "      <th>User ID</th>\n",
       "      <td>2481.0</td>\n",
       "      <td>14875.678356</td>\n",
       "      <td>2880.104515</td>\n",
       "      <td>10005.0</td>\n",
       "      <td>12367.0</td>\n",
       "      <td>14815.0</td>\n",
       "      <td>17309.0</td>\n",
       "      <td>19993.0</td>\n",
       "    </tr>\n",
       "    <tr>\n",
       "      <th>Page Views</th>\n",
       "      <td>2481.0</td>\n",
       "      <td>7.492946</td>\n",
       "      <td>3.963448</td>\n",
       "      <td>1.0</td>\n",
       "      <td>4.0</td>\n",
       "      <td>8.0</td>\n",
       "      <td>11.0</td>\n",
       "      <td>14.0</td>\n",
       "    </tr>\n",
       "    <tr>\n",
       "      <th>Time Spent</th>\n",
       "      <td>2481.0</td>\n",
       "      <td>243.303910</td>\n",
       "      <td>119.193552</td>\n",
       "      <td>40.0</td>\n",
       "      <td>136.0</td>\n",
       "      <td>244.0</td>\n",
       "      <td>348.0</td>\n",
       "      <td>449.0</td>\n",
       "    </tr>\n",
       "  </tbody>\n",
       "</table>\n",
       "</div>"
      ],
      "text/plain": [
       "             count          mean          std      min      25%      50%  \\\n",
       "User ID     2481.0  14875.678356  2880.104515  10005.0  12367.0  14815.0   \n",
       "Page Views  2481.0      7.492946     3.963448      1.0      4.0      8.0   \n",
       "Time Spent  2481.0    243.303910   119.193552     40.0    136.0    244.0   \n",
       "\n",
       "                75%      max  \n",
       "User ID     17309.0  19993.0  \n",
       "Page Views     11.0     14.0  \n",
       "Time Spent    348.0    449.0  "
      ]
     },
     "metadata": {},
     "output_type": "display_data"
    },
    {
     "name": "stdout",
     "output_type": "stream",
     "text": [
      "\n",
      " ..................... \n",
      "\n",
      "Los principales estadísticos de las columnas categóricas para el A son: \n"
     ]
    },
    {
     "data": {
      "text/html": [
       "<div>\n",
       "<style scoped>\n",
       "    .dataframe tbody tr th:only-of-type {\n",
       "        vertical-align: middle;\n",
       "    }\n",
       "\n",
       "    .dataframe tbody tr th {\n",
       "        vertical-align: top;\n",
       "    }\n",
       "\n",
       "    .dataframe thead th {\n",
       "        text-align: right;\n",
       "    }\n",
       "</style>\n",
       "<table border=\"1\" class=\"dataframe\">\n",
       "  <thead>\n",
       "    <tr style=\"text-align: right;\">\n",
       "      <th></th>\n",
       "      <th>count</th>\n",
       "      <th>unique</th>\n",
       "      <th>top</th>\n",
       "      <th>freq</th>\n",
       "    </tr>\n",
       "  </thead>\n",
       "  <tbody>\n",
       "    <tr>\n",
       "      <th>Group</th>\n",
       "      <td>2519</td>\n",
       "      <td>1</td>\n",
       "      <td>A</td>\n",
       "      <td>2519</td>\n",
       "    </tr>\n",
       "    <tr>\n",
       "      <th>Conversion</th>\n",
       "      <td>2519</td>\n",
       "      <td>2</td>\n",
       "      <td>No</td>\n",
       "      <td>2383</td>\n",
       "    </tr>\n",
       "    <tr>\n",
       "      <th>Device</th>\n",
       "      <td>2519</td>\n",
       "      <td>2</td>\n",
       "      <td>Mobile</td>\n",
       "      <td>1275</td>\n",
       "    </tr>\n",
       "    <tr>\n",
       "      <th>Location</th>\n",
       "      <td>2519</td>\n",
       "      <td>4</td>\n",
       "      <td>Scotland</td>\n",
       "      <td>670</td>\n",
       "    </tr>\n",
       "  </tbody>\n",
       "</table>\n",
       "</div>"
      ],
      "text/plain": [
       "           count unique       top  freq\n",
       "Group       2519      1         A  2519\n",
       "Conversion  2519      2        No  2383\n",
       "Device      2519      2    Mobile  1275\n",
       "Location    2519      4  Scotland   670"
      ]
     },
     "metadata": {},
     "output_type": "display_data"
    },
    {
     "name": "stdout",
     "output_type": "stream",
     "text": [
      "\n",
      " ..................... \n",
      "\n",
      "Los principales estadísticos de las columnas numéricas para el A son: \n"
     ]
    },
    {
     "data": {
      "text/html": [
       "<div>\n",
       "<style scoped>\n",
       "    .dataframe tbody tr th:only-of-type {\n",
       "        vertical-align: middle;\n",
       "    }\n",
       "\n",
       "    .dataframe tbody tr th {\n",
       "        vertical-align: top;\n",
       "    }\n",
       "\n",
       "    .dataframe thead th {\n",
       "        text-align: right;\n",
       "    }\n",
       "</style>\n",
       "<table border=\"1\" class=\"dataframe\">\n",
       "  <thead>\n",
       "    <tr style=\"text-align: right;\">\n",
       "      <th></th>\n",
       "      <th>count</th>\n",
       "      <th>mean</th>\n",
       "      <th>std</th>\n",
       "      <th>min</th>\n",
       "      <th>25%</th>\n",
       "      <th>50%</th>\n",
       "      <th>75%</th>\n",
       "      <th>max</th>\n",
       "    </tr>\n",
       "  </thead>\n",
       "  <tbody>\n",
       "    <tr>\n",
       "      <th>User ID</th>\n",
       "      <td>2519.0</td>\n",
       "      <td>14973.893212</td>\n",
       "      <td>2858.061548</td>\n",
       "      <td>10001.0</td>\n",
       "      <td>12540.5</td>\n",
       "      <td>14902.0</td>\n",
       "      <td>17451.0</td>\n",
       "      <td>19995.0</td>\n",
       "    </tr>\n",
       "    <tr>\n",
       "      <th>Page Views</th>\n",
       "      <td>2519.0</td>\n",
       "      <td>7.581580</td>\n",
       "      <td>4.080066</td>\n",
       "      <td>1.0</td>\n",
       "      <td>4.0</td>\n",
       "      <td>8.0</td>\n",
       "      <td>11.0</td>\n",
       "      <td>14.0</td>\n",
       "    </tr>\n",
       "    <tr>\n",
       "      <th>Time Spent</th>\n",
       "      <td>2519.0</td>\n",
       "      <td>241.733227</td>\n",
       "      <td>117.340026</td>\n",
       "      <td>40.0</td>\n",
       "      <td>137.5</td>\n",
       "      <td>241.0</td>\n",
       "      <td>343.0</td>\n",
       "      <td>449.0</td>\n",
       "    </tr>\n",
       "  </tbody>\n",
       "</table>\n",
       "</div>"
      ],
      "text/plain": [
       "             count          mean          std      min      25%      50%  \\\n",
       "User ID     2519.0  14973.893212  2858.061548  10001.0  12540.5  14902.0   \n",
       "Page Views  2519.0      7.581580     4.080066      1.0      4.0      8.0   \n",
       "Time Spent  2519.0    241.733227   117.340026     40.0    137.5    241.0   \n",
       "\n",
       "                75%      max  \n",
       "User ID     17451.0  19995.0  \n",
       "Page Views     11.0     14.0  \n",
       "Time Spent    343.0    449.0  "
      ]
     },
     "metadata": {},
     "output_type": "display_data"
    }
   ],
   "source": [
    "# Hacemos uso de una de nuestras funciones de soporte\n",
    "sa.exploracion_dataframe(df, \"Group\")"
   ]
  },
  {
   "cell_type": "code",
   "execution_count": 6,
   "metadata": {},
   "outputs": [
    {
     "name": "stdout",
     "output_type": "stream",
     "text": [
      "Tenemos un total de 0 usuarios repetidos\n"
     ]
    }
   ],
   "source": [
    "# En la exploración anterior hemos visto que no hay duplicados, pero podría interesarnos mirar si hay algun usuario que esté más de una vez en el conjunto de datos\n",
    "print(f\"Tenemos un total de {df.duplicated(subset='User ID').sum()} usuarios repetidos\")\n",
    "\n",
    "# como tenemos muchos datos y muy pocos usuarios duplicados lo que vamos a hacer es eliminarlos\n",
    "df.drop_duplicates(subset=\"User ID\", inplace = True)"
   ]
  },
  {
   "cell_type": "code",
   "execution_count": 7,
   "metadata": {},
   "outputs": [
    {
     "name": "stdout",
     "output_type": "stream",
     "text": [
      "<class 'pandas.core.frame.DataFrame'>\n",
      "RangeIndex: 5000 entries, 0 to 4999\n",
      "Data columns (total 8 columns):\n",
      " #   Column      Non-Null Count  Dtype \n",
      "---  ------      --------------  ----- \n",
      " 0   User ID     5000 non-null   int64 \n",
      " 1   Group       5000 non-null   object\n",
      " 2   Page Views  5000 non-null   int64 \n",
      " 3   Time Spent  5000 non-null   int64 \n",
      " 4   Conversion  5000 non-null   object\n",
      " 5   Device      5000 non-null   object\n",
      " 6   Location    5000 non-null   object\n",
      " 7   Converted   5000 non-null   bool  \n",
      "dtypes: bool(1), int64(3), object(4)\n",
      "memory usage: 278.4+ KB\n"
     ]
    }
   ],
   "source": [
    "# Crear una nueva columna llamada \"Converted\" en la que se conviertan los valores de la columna \"Conversion\" a booleanos.\n",
    " \n",
    "df['Converted'] = df['Conversion'].map({'Yes': True, 'No': False}).astype(bool)\n",
    "df.info()"
   ]
  },
  {
   "cell_type": "markdown",
   "metadata": {},
   "source": [
    "Para calcular el tamaño muestral, es necesario calcular para el grupo A el promedio de compras que han hecho los usuarios y luego podremos establecer el objetivo de en cuánto debe aumentar ese promedio."
   ]
  },
  {
   "cell_type": "code",
   "execution_count": 8,
   "metadata": {},
   "outputs": [
    {
     "data": {
      "text/plain": [
       "np.float64(0.05)"
      ]
     },
     "execution_count": 8,
     "metadata": {},
     "output_type": "execute_result"
    }
   ],
   "source": [
    "# Promedio de conversión para el grupo A\n",
    "promedio_por_grupo = df[df['Group'] == \"A\"] ['Converted'].mean().round(2)\n",
    "\n",
    "promedio_por_grupo\n"
   ]
  },
  {
   "cell_type": "markdown",
   "metadata": {},
   "source": [
    "Con el grupo A se logra un promedio del 0.05 (tasa de conversión del 5%) por cada usuario en cada sesión. El objetivo es aumentar la tasa de conversión a un 8%."
   ]
  },
  {
   "cell_type": "code",
   "execution_count": 9,
   "metadata": {},
   "outputs": [
    {
     "name": "stdout",
     "output_type": "stream",
     "text": [
      "El tamaño muestral debe de ser de: 1047\n"
     ]
    }
   ],
   "source": [
    "# calculamos la diferencia esperada entre las tasas de conversión del diseño viejo y el nuevo, que es una medida estandarizada de la diferencia entre dos proporciones.\n",
    "diferencia = sms.proportion_effectsize(0.05, 0.08)  \n",
    "\n",
    "# definimos una variable para establecer el nivel de significancia\n",
    "alpha = 0.05 \n",
    "\n",
    "# definimos una variable para establecer el la potencia deseada\n",
    "power = 0.80 \n",
    "\n",
    "# usamos el método NormalIndPower, para poder aplicar la fórmula que hemos aprendido\n",
    "analisis = NormalIndPower()\n",
    "\n",
    "# aplicamos el método 'solve_power' para calcular el tamaño muestral. Este método no hace otra cosa más que aplicar la fórmula que vimos previamente\n",
    "tamaño_muestral = analisis.solve_power(diferencia, power = power, nobs1= None, ratio = 1.0, alpha = alpha)\n",
    "print(f'El tamaño muestral debe de ser de: {math.ceil(tamaño_muestral)}')"
   ]
  },
  {
   "cell_type": "code",
   "execution_count": 10,
   "metadata": {},
   "outputs": [
    {
     "data": {
      "text/plain": [
       "Group\n",
       "A    1047\n",
       "B    1047\n",
       "Name: count, dtype: int64"
      ]
     },
     "execution_count": 10,
     "metadata": {},
     "output_type": "execute_result"
    }
   ],
   "source": [
    "# Seleccionar 1047 usuarios de cada grupo\n",
    "\n",
    "# seleccionamos 1047 usuarios de cada grupo de forma aleatoria\n",
    "grupo_control = df[df['Group'] == 'A'].sample(n=math.ceil(tamaño_muestral), random_state=22)\n",
    "grupo_test = df[df['Group'] == 'B'].sample(n=math.ceil(tamaño_muestral), random_state=22)\n",
    "\n",
    "# unimos los dos conjuntos de datos\n",
    "ab_test = pd.concat([grupo_control, grupo_test], axis=0).reset_index(drop = True)\n",
    "\n",
    "# comprobamos que tengamos el mismo número de usuarios en los 2 grupos\n",
    "ab_test[\"Group\"].value_counts()"
   ]
  },
  {
   "cell_type": "code",
   "execution_count": 11,
   "metadata": {},
   "outputs": [
    {
     "data": {
      "text/html": [
       "<div>\n",
       "<style scoped>\n",
       "    .dataframe tbody tr th:only-of-type {\n",
       "        vertical-align: middle;\n",
       "    }\n",
       "\n",
       "    .dataframe tbody tr th {\n",
       "        vertical-align: top;\n",
       "    }\n",
       "\n",
       "    .dataframe thead th {\n",
       "        text-align: right;\n",
       "    }\n",
       "</style>\n",
       "<table border=\"1\" class=\"dataframe\">\n",
       "  <thead>\n",
       "    <tr style=\"text-align: right;\">\n",
       "      <th></th>\n",
       "      <th>Group</th>\n",
       "      <th>mean</th>\n",
       "      <th>std</th>\n",
       "    </tr>\n",
       "  </thead>\n",
       "  <tbody>\n",
       "    <tr>\n",
       "      <th>0</th>\n",
       "      <td>A</td>\n",
       "      <td>5.348615</td>\n",
       "      <td>22.510838</td>\n",
       "    </tr>\n",
       "    <tr>\n",
       "      <th>1</th>\n",
       "      <td>B</td>\n",
       "      <td>14.422159</td>\n",
       "      <td>35.148217</td>\n",
       "    </tr>\n",
       "  </tbody>\n",
       "</table>\n",
       "</div>"
      ],
      "text/plain": [
       "  Group       mean        std\n",
       "0     A   5.348615  22.510838\n",
       "1     B  14.422159  35.148217"
      ]
     },
     "metadata": {},
     "output_type": "display_data"
    },
    {
     "data": {
      "text/plain": [
       "Text(0.5, 0, '')"
      ]
     },
     "execution_count": 11,
     "metadata": {},
     "output_type": "execute_result"
    },
    {
     "data": {
      "image/png": "[encoded data removed]",
      "text/plain": [
       "<Figure size 640x480 with 1 Axes>"
      ]
     },
     "metadata": {},
     "output_type": "display_data"
    }
   ],
   "source": [
    "# Vamos a empezar con algunas gráficas para ir familiarizándonos con los datos.\n",
    "# Lo primero que vamos a hacer es calcular el ratio de conversión de cada uno de los grupos.\n",
    "\n",
    "ratio_conversion = ab_test.groupby('Group')['Converted'].agg([\"mean\", \"std\"]).reset_index()\n",
    "ratio_conversion['mean'] *= 100  # Convertimos a porcentaje\n",
    "ratio_conversion['std'] *= 100   # También por si luego usas barras de error\n",
    "\n",
    "display(ratio_conversion)\n",
    "\n",
    "# Crear gráfico con seaborn y colores personalizados\n",
    "fig = sns.barplot(\n",
    "    data=ratio_conversion, \n",
    "    x=\"Group\", \n",
    "    y=\"mean\",\n",
    "    hue=\"Group\",\n",
    "    palette={\"A\": \"#1f77b4\", \"B\": \"#e75480\"},\n",
    "    legend=False\n",
    ")\n",
    "\n",
    "# Añadir etiquetas de porcentaje arriba de las barras\n",
    "for container in fig.containers:\n",
    "    for bar in container:\n",
    "        height = bar.get_height()\n",
    "        if height > 0:\n",
    "            fig.text(\n",
    "                x=bar.get_x() + bar.get_width() / 2,\n",
    "                y=height + 0.3,  # un poco más arriba que antes, porque ahora la escala es 0–100\n",
    "                s=f\"{height:.2f}%\",\n",
    "                ha='center',\n",
    "                va='bottom',\n",
    "                fontsize=10\n",
    "            )\n",
    "\n",
    "# Estética del gráfico\n",
    "fig.spines['top'].set_visible(False)\n",
    "fig.spines['right'].set_visible(False)\n",
    "fig.set_title(\"Tasas de conversión para cada grupo\")\n",
    "fig.set_ylabel(\"Tasa de conversión (%)\", fontsize=8)\n",
    "fig.set_xlabel(\"\")"
   ]
  },
  {
   "cell_type": "markdown",
   "metadata": {},
   "source": [
    "Estos resultados muestran las medias en las tasas de conversión para los dos grupos: el grupo de control y el grupo de tratamiento.\n",
    "\n",
    "- Para el grupo de control, la tasa de conversión promedio es aproximadamente 5.35%, con una desviación estándar de alrededor de 22.51%.\n",
    "\n",
    "- Para el grupo de tratamiento, la tasa de conversión promedio es aproximadamente 14.42%, con una desviación estándar de alrededor de 35.14%.\n",
    "\n",
    "Esto sugiere que, en promedio, el grupo de tratamiento tiene una tasa de conversión más alta que el grupo de control, en concreto un 9.07% más. Sin embargo, las desviaciones estándar muestran que hay más variabilidad en los datos del grupo de tratamiento en comparación con el grupo de control.\n",
    "\n",
    "\n",
    "Las desviaciones estándar más grandes en el grupo de tratamiento en comparación con el grupo de control indican una mayor variabilidad en los datos del grupo de tratamiento. El principal problema que nos podríamos encontrar es que una mayor variabilidad en el grupo de tratamiento podría llevar a una mayor incertidumbre sobre la verdadera efectividad del nuevo diseño. De esta forma, podriamos tener unos resultados menos confiables y más difíciles de interpretar."
   ]
  },
  {
   "cell_type": "code",
   "execution_count": 12,
   "metadata": {},
   "outputs": [
    {
     "data": {
      "text/html": [
       "<div>\n",
       "<style scoped>\n",
       "    .dataframe tbody tr th:only-of-type {\n",
       "        vertical-align: middle;\n",
       "    }\n",
       "\n",
       "    .dataframe tbody tr th {\n",
       "        vertical-align: top;\n",
       "    }\n",
       "\n",
       "    .dataframe thead th {\n",
       "        text-align: right;\n",
       "    }\n",
       "</style>\n",
       "<table border=\"1\" class=\"dataframe\">\n",
       "  <thead>\n",
       "    <tr style=\"text-align: right;\">\n",
       "      <th></th>\n",
       "      <th>Location</th>\n",
       "      <th>mean</th>\n",
       "      <th>std</th>\n",
       "    </tr>\n",
       "  </thead>\n",
       "  <tbody>\n",
       "    <tr>\n",
       "      <th>3</th>\n",
       "      <td>Wales</td>\n",
       "      <td>11.800000</td>\n",
       "      <td>32.293121</td>\n",
       "    </tr>\n",
       "    <tr>\n",
       "      <th>2</th>\n",
       "      <td>Scotland</td>\n",
       "      <td>9.671533</td>\n",
       "      <td>29.583979</td>\n",
       "    </tr>\n",
       "    <tr>\n",
       "      <th>0</th>\n",
       "      <td>England</td>\n",
       "      <td>9.108527</td>\n",
       "      <td>28.800955</td>\n",
       "    </tr>\n",
       "    <tr>\n",
       "      <th>1</th>\n",
       "      <td>Northern Ireland</td>\n",
       "      <td>9.056604</td>\n",
       "      <td>28.726212</td>\n",
       "    </tr>\n",
       "  </tbody>\n",
       "</table>\n",
       "</div>"
      ],
      "text/plain": [
       "           Location       mean        std\n",
       "3             Wales  11.800000  32.293121\n",
       "2          Scotland   9.671533  29.583979\n",
       "0           England   9.108527  28.800955\n",
       "1  Northern Ireland   9.056604  28.726212"
      ]
     },
     "metadata": {},
     "output_type": "display_data"
    },
    {
     "data": {
      "image/png": "[encoded data removed]",
      "text/plain": [
       "<Figure size 1000x600 with 1 Axes>"
      ]
     },
     "metadata": {},
     "output_type": "display_data"
    }
   ],
   "source": [
    "# Agrupar y calcular tasa de conversión por Location\n",
    "conversion_location = ab_test.groupby('Location')['Converted'].agg([\"mean\", \"std\"]).reset_index()\n",
    "conversion_location['mean'] *= 100  # Convertimos a porcentaje\n",
    "conversion_location['std'] *= 100   # También por si luego usamos barras de error\n",
    "conversion_location = conversion_location.sort_values('mean', ascending=False)\n",
    "\n",
    "display(conversion_location)\n",
    "\n",
    "# Crear gráfico \n",
    "plt.figure(figsize=(10, 6))\n",
    "\n",
    "fig = sns.barplot(\n",
    "    data=conversion_location,\n",
    "    x=\"mean\",\n",
    "    y=\"Location\",\n",
    "    hue=\"Location\",             # <- esto evita el warning\n",
    "    palette=\"viridis\",\n",
    "    legend=False                # <- y desactivamos la leyenda innecesaria\n",
    ")\n",
    "\n",
    "# Añadir etiquetas al final de cada barra\n",
    "for container in fig.containers:\n",
    "    for bar in container:\n",
    "        width = bar.get_width()\n",
    "        if width > 0:\n",
    "            fig.text(\n",
    "                x=width + 0.5,\n",
    "                y=bar.get_y() + bar.get_height() / 2,\n",
    "                s=f\"{width:.2f}%\",\n",
    "                va='center',\n",
    "                ha='left',\n",
    "                fontsize=10\n",
    "            )\n",
    "\n",
    "# Estética\n",
    "fig.set_title(\"Tasa de conversión por ubicación\", fontsize=14)\n",
    "fig.set_xlabel(\"Tasa de conversión (%)\", fontsize=10)\n",
    "fig.set_ylabel(\"Ubicación\", fontsize=10)\n",
    "fig.spines['right'].set_visible(False)\n",
    "fig.spines['top'].set_visible(False)\n",
    "plt.tight_layout()\n",
    "plt.show()"
   ]
  },
  {
   "cell_type": "markdown",
   "metadata": {},
   "source": [
    "Estos resultados muestran las medias en las tasas de conversión para los países que forman parte de Reino Unido: Gales, Escocia, Inglaterra y Norte de Irlanda. \n",
    "\n",
    "- Para Gales, la tasa de conversión promedio es aproximadamente 11.80%, con una desviación estándar de alrededor de 32.29%.\n",
    "\n",
    "- Para Escocia, la tasa de conversión promedio es aproximadamente 9.67%, con una desviación estándar de alrededor de 29.58%.\n",
    "\n",
    "- Para Inglaterra, la tasa de conversión promedio es aproximadamente 9.11%, con una desviación estándar de 28.80%.\n",
    " \n",
    "- Para el Norte de Irlanda, la tasa de conversión promedio es aproximadamente 9.06%, con una desviación estándar de 28.73%.\n",
    "\n",
    "Esto sugiere que, en promedio, Gales tiene una tasa de conversión más alta que las demás localizaciones, en torno a un 2% más. Sin embargo, las desviaciones estándar muestran que hay más variabilidad en los datos para Gales en comparación con los demás países.\n",
    "\n",
    "\n",
    "Las desviaciones estándar más grandes en Gales en comparación con las demás localizaciones indican una mayor variabilidad en los datos del grupo de tratamiento. El principal problema que nos podríamos encontrar es que una mayor variabilidad en el grupo de tratamiento podría llevar a una mayor incertidumbre sobre la verdadera efectividad del nuevo diseño. De esta forma, podriamos tener unos resultados menos confiables y más difíciles de interpretar."
   ]
  },
  {
   "cell_type": "code",
   "execution_count": 13,
   "metadata": {},
   "outputs": [
    {
     "data": {
      "text/plain": [
       "{'Media grupo A': np.float64(0.054),\n",
       " 'Media grupo B': np.float64(0.1407),\n",
       " 't-statistic': np.float64(-10.433),\n",
       " 'p-valor': np.float64(0.0),\n",
       " 'Grados de libertad': np.float64(4248.85),\n",
       " 'Conclusión': '✅ Diferencia significativa'}"
      ]
     },
     "execution_count": 13,
     "metadata": {},
     "output_type": "execute_result"
    }
   ],
   "source": [
    "# Prueba de t-Student para comparar si existen diferencias significativas entre el grupo de control y el de tratamiento\n",
    "from scipy.stats import t\n",
    "\n",
    "# Separar los datos por grupo\n",
    "grupo_a = df[df['Group'] == 'A']['Converted']\n",
    "grupo_b = df[df['Group'] == 'B']['Converted']\n",
    "\n",
    "# Calcular medias\n",
    "x1 = np.mean(grupo_a)\n",
    "x2 = np.mean(grupo_b)\n",
    "\n",
    "# Calcular varianzas muestrales y tamaños\n",
    "s1_sq = np.var(grupo_a, ddof=1)\n",
    "s2_sq = np.var(grupo_b, ddof=1)\n",
    "n1 = len(grupo_a)\n",
    "n2 = len(grupo_b)\n",
    "\n",
    "# Calcular t-statistic\n",
    "t_stat = (x1 - x2) / np.sqrt((s1_sq / n1) + (s2_sq / n2))\n",
    "\n",
    "# Grados de libertad (fórmula de Welch)\n",
    "df_grados = ((s1_sq/n1 + s2_sq/n2)**2) / (((s1_sq/n1)**2) / (n1 - 1) + ((s2_sq/n2)**2) / (n2 - 1))\n",
    "\n",
    "# p-valor (dos colas)\n",
    "p_valor = 2 * t.sf(np.abs(t_stat), df_grados)\n",
    "\n",
    "# Resultados\n",
    "{\n",
    "    \"Media grupo A\": round(x1, 4),\n",
    "    \"Media grupo B\": round(x2, 4),\n",
    "    \"t-statistic\": round(t_stat, 4),\n",
    "    \"p-valor\": round(p_valor, 4),\n",
    "    \"Grados de libertad\": round(df_grados, 2),\n",
    "    \"Conclusión\": \"✅ Diferencia significativa\" if p_valor < 0.05 else \"❌ No significativa\"\n",
    "}\n",
    "\n"
   ]
  },
  {
   "cell_type": "code",
   "execution_count": 14,
   "metadata": {},
   "outputs": [
    {
     "name": "stdout",
     "output_type": "stream",
     "text": [
      "Grupo A - p valor Shapiro: 0.0\n",
      "Grupo B - p valor Shapiro: 0.0\n"
     ]
    }
   ],
   "source": [
    "from scipy.stats import shapiro\n",
    "\n",
    "# Comprobar normalidad para cada grupo\n",
    "stat_a, p_a = shapiro(grupo_a)\n",
    "stat_b, p_b = shapiro(grupo_b)\n",
    "\n",
    "print(\"Grupo A - p valor Shapiro:\", round(p_a, 4))\n",
    "print(\"Grupo B - p valor Shapiro:\", round(p_b, 4))"
   ]
  },
  {
   "cell_type": "markdown",
   "metadata": {},
   "source": [
    "La distribución de cada grupo sigue una distribución normal porque p valor es < 0.05 y por tanto se acepta la hipótesis nula"
   ]
  },
  {
   "cell_type": "code",
   "execution_count": 15,
   "metadata": {},
   "outputs": [
    {
     "name": "stdout",
     "output_type": "stream",
     "text": [
      "Levene test - p valor: 0.0\n"
     ]
    }
   ],
   "source": [
    "from scipy.stats import levene\n",
    "\n",
    "# Comprobar la homocedasticidad de los grupos\n",
    "stat_levene, p_levene = levene(grupo_a, grupo_b)\n",
    "\n",
    "print(\"Levene test - p valor:\", round(p_levene, 4))"
   ]
  },
  {
   "cell_type": "markdown",
   "metadata": {},
   "source": [
    "La diferencia entre los valores del grupo de control y el grupo de tratamiento son similares, p valor < 0.05 se acepta la hipótesis nula. "
   ]
  },
  {
   "cell_type": "code",
   "execution_count": 16,
   "metadata": {},
   "outputs": [
    {
     "name": "stdout",
     "output_type": "stream",
     "text": [
      "El estadístico de prueba (Z) es: -6.96, el p-valor es 0.0\n",
      "El p-valor de la prueba es 0.0, por lo tanto, hay diferencias significativas entre los grupos.\n"
     ]
    }
   ],
   "source": [
    "# Prueba Z-test para comparar la tasa de conversión entre los dos grupos y ver si hay diferencias significativas\n",
    "\n",
    "# instanciamos la clase de los métodos estadísticos\n",
    "ab_testing = sa.Pruebas_parametricas(\"Group\",  \"Converted\", ab_test, \"B\", \"A\")\n",
    "ab_testing.z_test()"
   ]
  },
  {
   "cell_type": "code",
   "execution_count": 18,
   "metadata": {},
   "outputs": [
    {
     "data": {
      "text/html": [
       "<div>\n",
       "<style scoped>\n",
       "    .dataframe tbody tr th:only-of-type {\n",
       "        vertical-align: middle;\n",
       "    }\n",
       "\n",
       "    .dataframe tbody tr th {\n",
       "        vertical-align: top;\n",
       "    }\n",
       "\n",
       "    .dataframe thead th {\n",
       "        text-align: right;\n",
       "    }\n",
       "</style>\n",
       "<table border=\"1\" class=\"dataframe\">\n",
       "  <thead>\n",
       "    <tr style=\"text-align: right;\">\n",
       "      <th></th>\n",
       "      <th>Group</th>\n",
       "      <th>mean</th>\n",
       "      <th>std</th>\n",
       "    </tr>\n",
       "  </thead>\n",
       "  <tbody>\n",
       "    <tr>\n",
       "      <th>0</th>\n",
       "      <td>A</td>\n",
       "      <td>5.348615</td>\n",
       "      <td>22.510838</td>\n",
       "    </tr>\n",
       "    <tr>\n",
       "      <th>1</th>\n",
       "      <td>B</td>\n",
       "      <td>14.422159</td>\n",
       "      <td>35.148217</td>\n",
       "    </tr>\n",
       "  </tbody>\n",
       "</table>\n",
       "</div>"
      ],
      "text/plain": [
       "  Group       mean        std\n",
       "0     A   5.348615  22.510838\n",
       "1     B  14.422159  35.148217"
      ]
     },
     "metadata": {},
     "output_type": "display_data"
    },
    {
     "data": {
      "text/plain": [
       "Text(0.5, 0, '')"
      ]
     },
     "execution_count": 18,
     "metadata": {},
     "output_type": "execute_result"
    },
    {
     "data": {
      "image/png": "[encoded data removed]",
      "text/plain": [
       "<Figure size 640x480 with 1 Axes>"
      ]
     },
     "metadata": {},
     "output_type": "display_data"
    }
   ],
   "source": [
    "# hemos visto que hay diferencias, recordemos ahora la gráfica donde veíamos las tasas de conversión de cada uno de los grupos\n",
    "ratio_conversion = ab_test.groupby('Group')['Converted'].agg([\"mean\", \"std\"]).reset_index()\n",
    "ratio_conversion['mean'] *= 100  # Convertimos a porcentaje\n",
    "ratio_conversion['std'] *= 100   # También por si luego usas barras de error\n",
    "\n",
    "display(ratio_conversion)\n",
    "\n",
    "# Crear gráfico con seaborn y colores personalizados\n",
    "fig = sns.barplot(\n",
    "    data=ratio_conversion, \n",
    "    x=\"Group\", \n",
    "    y=\"mean\",\n",
    "    hue=\"Group\",\n",
    "    palette={\"A\": \"#1f77b4\", \"B\": \"#e75480\"},\n",
    "    legend=False\n",
    ")\n",
    "\n",
    "# Añadir etiquetas de porcentaje arriba de las barras\n",
    "for container in fig.containers:\n",
    "    for bar in container:\n",
    "        height = bar.get_height()\n",
    "        if height > 0:\n",
    "            fig.text(\n",
    "                x=bar.get_x() + bar.get_width() / 2,\n",
    "                y=height + 0.3,  # un poco más arriba que antes, porque ahora la escala es 0–100\n",
    "                s=f\"{height:.2f}%\",\n",
    "                ha='center',\n",
    "                va='bottom',\n",
    "                fontsize=10\n",
    "            )\n",
    "\n",
    "# Estética del gráfico\n",
    "fig.spines['top'].set_visible(False)\n",
    "fig.spines['right'].set_visible(False)\n",
    "fig.set_title(\"Tasas de conversión para cada grupo\")\n",
    "fig.set_ylabel(\"Tasa de conversión (%)\", fontsize=8)\n",
    "fig.set_xlabel(\"\")\n"
   ]
  },
  {
   "cell_type": "markdown",
   "metadata": {},
   "source": [
    "# Conclusión\n",
    " \n",
    "Tanto en la prueba T-Student como en la prueba Z-Test se ha visto que el p valor es < 0.05, por lo que existen diferencias significativas entre el grupo de control y el grupo de tratamiento. Lo que realmente significa es que aumentan las conversiones de compra en el sitio web cuando el fondo es de color negro. Hemos logrado el objetivo final porque se ha alcanzado una tasa de conversión del 14.42%. Rechazamos la hipótesis nula y aceptamos la alternativa porque la nueva versión del sitio web es mucho mejor que la anterior. "
   ]
  }
 ],
 "metadata": {
  "kernelspec": {
   "display_name": "venv",
   "language": "python",
   "name": "python3"
  },
  "language_info": {
   "codemirror_mode": {
    "name": "ipython",
    "version": 3
   },
   "file_extension": ".py",
   "mimetype": "text/x-python",
   "name": "python",
   "nbconvert_exporter": "python",
   "pygments_lexer": "ipython3",
   "version": "3.12.4"
  }
 },
 "nbformat": 4,
 "nbformat_minor": 2
}
